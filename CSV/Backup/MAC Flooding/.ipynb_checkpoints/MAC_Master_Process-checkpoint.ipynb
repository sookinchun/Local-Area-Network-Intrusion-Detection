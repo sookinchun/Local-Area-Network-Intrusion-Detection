{
 "cells": [
  {
   "cell_type": "code",
   "execution_count": null,
   "id": "c29108d8",
   "metadata": {},
   "outputs": [],
   "source": [
    "## First process is Cleaning, and there's two version of Cleaning dataset\n",
    "## because there's different it data format"
   ]
  },
  {
   "cell_type": "code",
   "execution_count": null,
   "id": "ad10ce2b",
   "metadata": {},
   "outputs": [],
   "source": [
    "## First version data cleaning for normal traffic dataset"
   ]
  },
  {
   "cell_type": "code",
   "execution_count": null,
   "id": "86c38605",
   "metadata": {},
   "outputs": [],
   "source": [
    "#!/usr/bin/env python\n",
    "\n",
    "import pandas as pd\n",
    "import sys\n",
    "from functools import reduce\n",
    "import socket\n",
    "import struct\n",
    "import ipaddress\n",
    "\n",
    "filename = sys.argv[1]\n",
    "file1 = pd.read_csv(filename)\n",
    "file1.head(10)\n",
    "file1.isnull().sum\n",
    "#print(file1.isnull().sum)\n",
    "# step-1 to replace all null\n",
    "update_file = file1.fillna(\" \")\n",
    "update_file.isnull().sum()\n",
    "#print (update_file.isnull().sum()) \n",
    "update_file.to_csv('update_'+filename, index = False)\n",
    "# step-2 to remove all rows with null value\n",
    "update_file = file1.fillna(0)\n",
    "#print (update_file.isnull().sum())\n",
    "# step-3 to convert tcp.flag, ip.dst, ip.src to integer\n",
    "# (unused)update_file['tcp.flags'] = update_file['tcp.flags'].apply(lambda x: int(str(x), 16))\n",
    "update_file['ip.dst'] = update_file['ip.dst'].apply(lambda x: int(ipaddress.IPv4Address(x)))\n",
    "update_file['ip.src'] = update_file['ip.src'].apply(lambda x: int(ipaddress.IPv4Address(x)))\n",
    "update_file.to_csv('update_'+filename, index = False)"
   ]
  },
  {
   "cell_type": "code",
   "execution_count": null,
   "id": "9a82cb54",
   "metadata": {},
   "outputs": [],
   "source": [
    "## Second data cleaning format is to clean intrusion dataset that has used tcp.flags in the process"
   ]
  },
  {
   "cell_type": "code",
   "execution_count": null,
   "id": "75947d37",
   "metadata": {},
   "outputs": [],
   "source": [
    "#!/usr/bin/env python\n",
    "\n",
    "import pandas as pd\n",
    "import sys\n",
    "from functools import reduce\n",
    "import socket\n",
    "import struct\n",
    "import ipaddress\n",
    "import macaddress\n",
    "\n",
    "filename = sys.argv[1]\n",
    "file1 = pd.read_csv(filename)\n",
    "file1.head(10)\n",
    "file1.isnull().sum\n",
    "#print(file1.isnull().sum)\n",
    "# step-1 to replace all null\n",
    "update_file = file1.fillna(\" \")\n",
    "update_file.isnull().sum()\n",
    "#print (update_file.isnull().sum()) \n",
    "update_file.to_csv('update_'+filename, index = False)\n",
    "# step-2 to remove all rows with null value\n",
    "update_file = file1.fillna(0)\n",
    "#print (update_file.isnull().sum())\n",
    "# step-3 to convert tcp.flag, ip.dst, ip.src to integer\n",
    "# (unused)update_file['tcp.flags'] = update_file['tcp.flags'].apply(lambda x: int(str(x), 16))\n",
    "update_file['ip.dst'] = update_file['ip.dst'].apply(lambda x: int(ipaddress.IPv4Address(x)))\n",
    "update_file['ip.src'] = update_file['ip.src'].apply(lambda x: int(ipaddress.IPv4Address(x)))\n",
    "update_file['eth.addr'] = update_file['eth.addr'].apply(lambda x: int(macaddress.EUI48(x)))\n",
    "update_file['eth.dst'] = update_file['eth.dst'].apply(lambda x: int(macaddress.EUI48(x)))\n",
    "update_file.to_csv('update_'+filename, index = False)"
   ]
  },
  {
   "cell_type": "code",
   "execution_count": 2,
   "id": "0de1e6b0",
   "metadata": {},
   "outputs": [],
   "source": [
    "9# Create a list containing the index numbers you want to remove\n",
    "\n",
    "import pandas as pd\n",
    "import sys\n",
    "from functools import reduce\n",
    "import socket\n",
    "import struct\n",
    "import ipaddress\n",
    "\n",
    "\n",
    "df = pd.read_csv('Labeled_update_MAC_Flooding_attack.csv')\n",
    "\n",
    "\n",
    "index_list = list(range(10482, 19338))\n",
    "df.drop(df.index[index_list], inplace =True)\n",
    "df.shape\n",
    "df\n",
    "df.to_csv('Labeled_update_MAC_Flooding_attack.csv', index=False)"
   ]
  },
  {
   "cell_type": "code",
   "execution_count": null,
   "id": "af664bc9",
   "metadata": {},
   "outputs": [],
   "source": [
    "## Second process is to label the dataset with Normal_Traffic and Abnormal_Traffic"
   ]
  },
  {
   "cell_type": "code",
   "execution_count": null,
   "id": "459d627f",
   "metadata": {},
   "outputs": [],
   "source": [
    "import sys\n",
    "import csv\n",
    "\n",
    "label = sys.argv[1]\n",
    "file_name = sys.argv[2]\n",
    "\n",
    "file = open(file_name)\n",
    "content = csv.reader(file)\n",
    "#row0 = content.next() for python2 and next(content) for python 3\n",
    "row0 = next(content)\n",
    "row0.append('label')\n",
    "all = []\n",
    "all.append(row0)\n",
    "for item in content:\n",
    "    item.append(label)\n",
    "    all.append(item)\n",
    "\n",
    "new_file = open(\"Labeled_\" + file_name, 'w')\n",
    "writer = csv.writer(new_file, lineterminator='\\n')\n",
    "writer.writerows(all)"
   ]
  },
  {
   "cell_type": "code",
   "execution_count": 1,
   "id": "bc3dd42d",
   "metadata": {},
   "outputs": [],
   "source": [
    "## 3rd Proces is to create a master dataset by combine both normal traffic \n",
    "## and intrusion traffic for MAC attack."
   ]
  },
  {
   "cell_type": "code",
   "execution_count": 4,
   "id": "a5f63ca2",
   "metadata": {},
   "outputs": [
    {
     "name": "stdout",
     "output_type": "stream",
     "text": [
      "Resultant CSV after joining all CSV files at a particular location...\n",
      "           ip.src      ip.dst         eth.addr          eth.dst  \\\n",
      "0        98035027  3253489514  115848086057608  115848086057608   \n",
      "1      1347488552  1542973513  188194502993945  188194502993945   \n",
      "2      2053479744  1092413464    4754214429298    4754214429298   \n",
      "3      3908210972  2355885408  149069977429158  149069977429158   \n",
      "4       692955396  2660973117   86080524491827   86080524491827   \n",
      "...           ...         ...              ...              ...   \n",
      "20958  3232235777  3232235778   13259053006848   13259053006848   \n",
      "20959           0           0  281474976710655  281474976710655   \n",
      "20960           0           0  281474976710655  281474976710655   \n",
      "20961           0           0    1652522221568    1652522221568   \n",
      "20962           0           0  281474976710655  281474976710655   \n",
      "\n",
      "       frame.time_relative  frame.time_delta             label  \n",
      "0                 0.000000          0.000000  Abnormal_Traffic  \n",
      "1                 0.000385          0.000385  Abnormal_Traffic  \n",
      "2                 0.002072          0.001687  Abnormal_Traffic  \n",
      "3                 0.002424          0.000352  Abnormal_Traffic  \n",
      "4                 0.007847          0.005423  Abnormal_Traffic  \n",
      "...                    ...               ...               ...  \n",
      "20958          5035.897557          0.014194    Normal_Traffic  \n",
      "20959          5035.898868          0.001311    Normal_Traffic  \n",
      "20960          5036.893622          0.994754    Normal_Traffic  \n",
      "20961          5037.372030          0.478408    Normal_Traffic  \n",
      "20962          5037.888027          0.515997    Normal_Traffic  \n",
      "\n",
      "[20963 rows x 7 columns]\n"
     ]
    }
   ],
   "source": [
    "import pandas as pd\n",
    "import glob\n",
    "import os\n",
    "import csv\n",
    "\n",
    "# setting the path for joining multiple files\n",
    "files = os.path.join(\"C:/Users/Admin/Desktop/CSV file/T Shark extract/4.Completed Store/MAC Flooding\",\"Labeled*.csv\")\n",
    "\n",
    "# list of merged files returned\n",
    "files = glob.glob(files)\n",
    "\n",
    "print(\"Resultant CSV after joining all CSV files at a particular location...\");\n",
    "\n",
    "# joining files with concat and read_csv\n",
    "df = pd.concat(map(pd.read_csv, files), ignore_index=True)\n",
    "print(df)\n",
    "\n",
    "df.to_csv('Master_MAC_Attack.csv', index=False)\n"
   ]
  },
  {
   "cell_type": "code",
   "execution_count": null,
   "id": "d3b045ee",
   "metadata": {},
   "outputs": [],
   "source": [
    "## Remove Ununsed Features"
   ]
  },
  {
   "cell_type": "code",
   "execution_count": 3,
   "id": "b3846658",
   "metadata": {},
   "outputs": [
    {
     "name": "stdout",
     "output_type": "stream",
     "text": [
      "          ip.src      ip.dst  ip.len  ip.flags.df  ip.ttl  ip.proto  \\\n",
      "0              0           0     0.0          0.0     0.0       0.0   \n",
      "1              0           0     0.0          0.0     0.0       0.0   \n",
      "2              0           0     0.0          0.0     0.0       0.0   \n",
      "3              0           0     0.0          0.0     0.0       0.0   \n",
      "4              0           0     0.0          0.0     0.0       0.0   \n",
      "...          ...         ...     ...          ...     ...       ...   \n",
      "1237  3232235778  3232235780    84.0          1.0    64.0       1.0   \n",
      "1238  3232235780  3232235778    84.0          0.0    64.0       1.0   \n",
      "1239           0           0     0.0          0.0     0.0       0.0   \n",
      "1240           0           0     0.0          0.0     0.0       0.0   \n",
      "1241           0           0     0.0          0.0     0.0       0.0   \n",
      "\n",
      "      frame.time_relative  frame.time_delta           label  \n",
      "0                0.000000          0.000000   DHCP_Spoofing  \n",
      "1                0.754911          0.754911   DHCP_Spoofing  \n",
      "2                1.096345          0.341434   DHCP_Spoofing  \n",
      "3                1.106258          0.009913   DHCP_Spoofing  \n",
      "4                2.974673          1.868415   DHCP_Spoofing  \n",
      "...                   ...               ...             ...  \n",
      "1237           257.749137          0.002468  Normal_Traffic  \n",
      "1238           257.755494          0.006357  Normal_Traffic  \n",
      "1239           258.576457          0.820963  Normal_Traffic  \n",
      "1240           258.627872          0.051415  Normal_Traffic  \n",
      "1241           258.628271          0.000399  Normal_Traffic  \n",
      "\n",
      "[1242 rows x 9 columns]\n"
     ]
    }
   ],
   "source": [
    "import pandas as pd\n",
    "import csv\n",
    "\n",
    "#read dataset\n",
    "data = pd.read_csv('Master_MAC_Attack.csv')\n",
    "\n",
    "# display\n",
    "#print(data)\n",
    "  \n",
    "# pop function which is used in removing or deleting columns from the CSV files\n",
    "data.pop('ip.flags.mf')\n",
    "data.pop('ip.fragment')\n",
    "data.pop('ip.fragment.count')\n",
    "data.pop('ip.fragments')\n",
    "data.pop('tcp.window_size')\n",
    "data.pop('tcp.ack')\n",
    "data.pop('tcp.seq')\n",
    "data.pop('tcp.len')\n",
    "data.pop('tcp.stream')\n",
    "data.pop('tcp.urgent_pointer')\n",
    "data.pop('tcp.flags')\n",
    "data.pop('tcp.analysis.ack_rtt')\n",
    "data.pop('tcp.segments')\n",
    "data.pop('tcp.reassembled.length')\n",
    "data.pop('http.request')\n",
    "data.pop('udp.port')\n",
    "data.pop('tcp.time_relative')\n",
    "data.pop('tcp.time_delta')\n",
    "         \n",
    "  \n",
    "# display\n",
    "print(data)\n",
    "data.to_csv('Master_MAC_Attack.csv', index=False)\n"
   ]
  },
  {
   "cell_type": "markdown",
   "id": "b9b4040a",
   "metadata": {},
   "source": [
    "## last step is to train with the model"
   ]
  },
  {
   "cell_type": "code",
   "execution_count": 5,
   "id": "2cfa2913",
   "metadata": {},
   "outputs": [],
   "source": [
    "import pydotplus"
   ]
  },
  {
   "cell_type": "code",
   "execution_count": 9,
   "id": "5d70dd59",
   "metadata": {
    "scrolled": false
   },
   "outputs": [
    {
     "name": "stdout",
     "output_type": "stream",
     "text": [
      "[[98035027 3253489514 115848086057608 ... 0.0 0.0 'Abnormal_Traffic']\n",
      " [1347488552 1542973513 188194502993945 ... 0.000385 0.000385\n",
      "  'Abnormal_Traffic']\n",
      " [2053479744 1092413464 4754214429298 ... 0.002072 0.001687\n",
      "  'Abnormal_Traffic']\n",
      " ...\n",
      " [0 0 281474976710655 ... 5036.893622 0.994754 'Normal_Traffic']\n",
      " [0 0 1652522221568 ... 5037.37203 0.478408 'Normal_Traffic']\n",
      " [0 0 281474976710655 ... 5037.888027 0.515997 'Normal_Traffic']]\n",
      "LR Accuracy: 0.499046 (+/- 0.006155)\n",
      "LDA Accuracy: 0.912430 (+/- 0.004364)\n",
      "KNN Accuracy: 0.997751 (+/- 0.000462)\n",
      "CART Accuracy: 0.999387 (+/- 0.000545)\n"
     ]
    },
    {
     "data": {
      "image/png": "[encoded data removed]",
      "text/plain": [
       "<Figure size 432x288 with 1 Axes>"
      ]
     },
     "metadata": {
      "needs_background": "light"
     },
     "output_type": "display_data"
    },
    {
     "name": "stdout",
     "output_type": "stream",
     "text": [
      "\n",
      " CART results on 30% test set \n",
      "\n",
      "0.9988644106291165\n",
      "\n",
      "CART accuracy test: \n",
      "\n",
      "0.9988644106291165\n",
      "[[2194    4]\n",
      " [   1 2204]]\n",
      "                  precision    recall  f1-score   support\n",
      "\n",
      "Abnormal_Traffic       1.00      1.00      1.00      2198\n",
      "  Normal_Traffic       1.00      1.00      1.00      2205\n",
      "\n",
      "        accuracy                           1.00      4403\n",
      "       macro avg       1.00      1.00      1.00      4403\n",
      "    weighted avg       1.00      1.00      1.00      4403\n",
      "\n"
     ]
    },
    {
     "name": "stderr",
     "output_type": "stream",
     "text": [
      "D:\\Users\\sookinchun\\anaconda3\\lib\\site-packages\\sklearn\\utils\\deprecation.py:87: FutureWarning: Function plot_confusion_matrix is deprecated; Function `plot_confusion_matrix` is deprecated in 1.0 and will be removed in 1.2. Use one of the class methods: ConfusionMatrixDisplay.from_predictions or ConfusionMatrixDisplay.from_estimator.\n",
      "  warnings.warn(msg, category=FutureWarning)\n"
     ]
    },
    {
     "data": {
      "image/png": "[encoded data removed]",
      "text/plain": [
       "<Figure size 432x288 with 2 Axes>"
      ]
     },
     "metadata": {
      "needs_background": "light"
     },
     "output_type": "display_data"
    },
    {
     "name": "stdout",
     "output_type": "stream",
     "text": [
      "\n",
      "CART results on final 30% validation \n",
      "\n",
      "\n",
      "CART accuracy validation: \n",
      "\n",
      "0.9993639688344729\n",
      "[[3158    1]\n",
      " [   3 3127]]\n",
      "                  precision    recall  f1-score   support\n",
      "\n",
      "Abnormal_Traffic       1.00      1.00      1.00      3159\n",
      "  Normal_Traffic       1.00      1.00      1.00      3130\n",
      "\n",
      "        accuracy                           1.00      6289\n",
      "       macro avg       1.00      1.00      1.00      6289\n",
      "    weighted avg       1.00      1.00      1.00      6289\n",
      "\n"
     ]
    },
    {
     "data": {
      "image/png": "[encoded data removed]",
      "text/plain": [
       "<Figure size 432x288 with 2 Axes>"
      ]
     },
     "metadata": {
      "needs_background": "light"
     },
     "output_type": "display_data"
    },
    {
     "name": "stdout",
     "output_type": "stream",
     "text": [
      "-------------------------------------------------------\n",
      "\n",
      " Logistic Regression results on 30% test set \n",
      "\n",
      "0.49920508744038156\n",
      "\n",
      "Logistic Regression accuracy test: \n",
      "\n",
      "0.49920508744038156\n",
      "[[2198    0]\n",
      " [2205    0]]\n",
      "                  precision    recall  f1-score   support\n",
      "\n",
      "Abnormal_Traffic       0.50      1.00      0.67      2198\n",
      "  Normal_Traffic       0.00      0.00      0.00      2205\n",
      "\n",
      "        accuracy                           0.50      4403\n",
      "       macro avg       0.25      0.50      0.33      4403\n",
      "    weighted avg       0.25      0.50      0.33      4403\n",
      "\n"
     ]
    },
    {
     "data": {
      "image/png": "[encoded data removed]",
      "text/plain": [
       "<Figure size 432x288 with 2 Axes>"
      ]
     },
     "metadata": {
      "needs_background": "light"
     },
     "output_type": "display_data"
    },
    {
     "name": "stdout",
     "output_type": "stream",
     "text": [
      "\n",
      "Logistic Regression results on final 30% validation \n",
      "\n",
      "\n",
      "Logistic Regression accuracy validation: \n",
      "\n",
      "0.9993639688344729\n",
      "[[3158    1]\n",
      " [   3 3127]]\n",
      "                  precision    recall  f1-score   support\n",
      "\n",
      "Abnormal_Traffic       1.00      1.00      1.00      3159\n",
      "  Normal_Traffic       1.00      1.00      1.00      3130\n",
      "\n",
      "        accuracy                           1.00      6289\n",
      "       macro avg       1.00      1.00      1.00      6289\n",
      "    weighted avg       1.00      1.00      1.00      6289\n",
      "\n"
     ]
    },
    {
     "data": {
      "image/png": "[encoded data removed]",
      "text/plain": [
       "<Figure size 432x288 with 2 Axes>"
      ]
     },
     "metadata": {
      "needs_background": "light"
     },
     "output_type": "display_data"
    },
    {
     "name": "stdout",
     "output_type": "stream",
     "text": [
      "-------------------------------------------------------\n",
      "\n",
      " KNeighbors results on 30% test set \n",
      "\n",
      "0.9975017033840563\n",
      "\n",
      "K Neighbors accuracy test: \n",
      "\n",
      "0.9975017033840563\n",
      "[[2187   11]\n",
      " [   0 2205]]\n",
      "                  precision    recall  f1-score   support\n",
      "\n",
      "Abnormal_Traffic       1.00      0.99      1.00      2198\n",
      "  Normal_Traffic       1.00      1.00      1.00      2205\n",
      "\n",
      "        accuracy                           1.00      4403\n",
      "       macro avg       1.00      1.00      1.00      4403\n",
      "    weighted avg       1.00      1.00      1.00      4403\n",
      "\n"
     ]
    },
    {
     "data": {
      "image/png": "[encoded data removed]",
      "text/plain": [
       "<Figure size 432x288 with 2 Axes>"
      ]
     },
     "metadata": {
      "needs_background": "light"
     },
     "output_type": "display_data"
    },
    {
     "name": "stdout",
     "output_type": "stream",
     "text": [
      "\n",
      "K Neighbors results on final 30% validation \n",
      "\n",
      "\n",
      "K Neighbors accuracy validation: \n",
      "\n",
      "0.9993639688344729\n",
      "[[3158    1]\n",
      " [   3 3127]]\n",
      "                  precision    recall  f1-score   support\n",
      "\n",
      "Abnormal_Traffic       1.00      1.00      1.00      3159\n",
      "  Normal_Traffic       1.00      1.00      1.00      3130\n",
      "\n",
      "        accuracy                           1.00      6289\n",
      "       macro avg       1.00      1.00      1.00      6289\n",
      "    weighted avg       1.00      1.00      1.00      6289\n",
      "\n"
     ]
    },
    {
     "data": {
      "image/png": "[encoded data removed]",
      "text/plain": [
       "<Figure size 432x288 with 2 Axes>"
      ]
     },
     "metadata": {
      "needs_background": "light"
     },
     "output_type": "display_data"
    },
    {
     "name": "stdout",
     "output_type": "stream",
     "text": [
      "-------------------------------------------------------\n",
      "\n",
      " Linear Discriminant Analysis results on 30% test set \n",
      "\n",
      "0.9114240290710879\n",
      "\n",
      "Linear Discriminant Analysis accuracy test: \n",
      "\n",
      "0.9114240290710879\n",
      "[[2198    0]\n",
      " [ 390 1815]]\n",
      "                  precision    recall  f1-score   support\n",
      "\n",
      "Abnormal_Traffic       0.85      1.00      0.92      2198\n",
      "  Normal_Traffic       1.00      0.82      0.90      2205\n",
      "\n",
      "        accuracy                           0.91      4403\n",
      "       macro avg       0.92      0.91      0.91      4403\n",
      "    weighted avg       0.92      0.91      0.91      4403\n",
      "\n"
     ]
    },
    {
     "data": {
      "image/png": "[encoded data removed]",
      "text/plain": [
       "<Figure size 432x288 with 2 Axes>"
      ]
     },
     "metadata": {
      "needs_background": "light"
     },
     "output_type": "display_data"
    },
    {
     "name": "stdout",
     "output_type": "stream",
     "text": [
      "\n",
      "Linear Discriminant Analysis results on final 30% validation \n",
      "\n",
      "\n",
      "Linear Discriminant Analysis accuracy validation: \n",
      "\n",
      "0.9993639688344729\n",
      "[[3158    1]\n",
      " [   3 3127]]\n",
      "                  precision    recall  f1-score   support\n",
      "\n",
      "Abnormal_Traffic       1.00      1.00      1.00      3159\n",
      "  Normal_Traffic       1.00      1.00      1.00      3130\n",
      "\n",
      "        accuracy                           1.00      6289\n",
      "       macro avg       1.00      1.00      1.00      6289\n",
      "    weighted avg       1.00      1.00      1.00      6289\n",
      "\n"
     ]
    },
    {
     "data": {
      "image/png": "[encoded data removed]",
      "text/plain": [
       "<Figure size 432x288 with 2 Axes>"
      ]
     },
     "metadata": {
      "needs_background": "light"
     },
     "output_type": "display_data"
    }
   ],
   "source": [
    "# Load libraries\n",
    "import pandas\n",
    "from pandas.plotting import scatter_matrix\n",
    "import matplotlib.pyplot as plt\n",
    "from sklearn import model_selection\n",
    "from sklearn.metrics import classification_report\n",
    "from sklearn.metrics import confusion_matrix\n",
    "from sklearn.metrics import accuracy_score\n",
    "from sklearn.linear_model import LogisticRegression\n",
    "from sklearn.tree import DecisionTreeClassifier\n",
    "from sklearn.neighbors import KNeighborsClassifier\n",
    "from sklearn.discriminant_analysis import LinearDiscriminantAnalysis\n",
    "from sklearn.ensemble import RandomForestClassifier\n",
    "import joblib\n",
    "from six import StringIO \n",
    "from IPython.display import Image  \n",
    "from sklearn.tree import export_graphviz\n",
    "import pydotplus\n",
    "import os   \n",
    "import warnings\n",
    "from sklearn import metrics\n",
    "from sklearn.metrics import plot_confusion_matrix\n",
    "warnings.filterwarnings('always')  # \"error\", \"ignore\", \"always\", \"default\", \"module\" or \"once\"\n",
    "warnings.filterwarnings(\"ignore\")\n",
    "\n",
    "\n",
    "# import dataset\n",
    "dataset = pandas.read_csv(\"Master_MAC_Attack.csv\")\n",
    "\n",
    "#print (dataset.shape)\n",
    "\n",
    "# head\n",
    "#print(dataset.head(20))\n",
    "\n",
    "# descriptions\n",
    "#print(dataset.describe())\n",
    "\n",
    "# class distribution\n",
    "#print(dataset.groupby('label').size())\n",
    "\n",
    "# split dataset\n",
    "array = dataset.values\n",
    "print (array)\n",
    "X = array[:,0:6]\n",
    "Y = array[:,6]\n",
    "validation_size = 0.30\n",
    "seed = 42\n",
    "\n",
    "# Split dataset into training set and test set\n",
    "X_train, X_validation, Y_train, Y_validation = model_selection.train_test_split(X, Y, test_size=validation_size, random_state=seed)\n",
    "X_train_set, X_test, Y_train_set, Y_test = model_selection.train_test_split(X_train, Y_train, test_size=validation_size, random_state=seed)\n",
    "\n",
    "\n",
    "# Test options and evaluation metric\n",
    "scoring = 'accuracy'\n",
    "\n",
    "# Fit algorithm model\n",
    "\n",
    "models = []\n",
    "models.append(('LR', LogisticRegression()))\n",
    "models.append(('LDA', LinearDiscriminantAnalysis()))\n",
    "models.append(('KNN', KNeighborsClassifier()))\n",
    "models.append(('CART', DecisionTreeClassifier()))\n",
    "\n",
    "\n",
    "# evaluate each model in turn\n",
    "results = []\n",
    "names = []\n",
    "for name, model in models:\n",
    "        kfold = model_selection.KFold(n_splits=5, shuffle=True, random_state=seed)\n",
    "        cv_results = model_selection.cross_val_score(model, X_train, Y_train, cv=kfold, scoring=scoring)\n",
    "        results.append(cv_results)\n",
    "        names.append(name)\n",
    "        msg = \"%s Accuracy: %f (+/- %f)\" % (name, cv_results.mean(), cv_results.std())\n",
    "        print(msg)\n",
    "\n",
    "#Compare Algorithms\n",
    "fig = plt.figure()\n",
    "fig.suptitle('Algorithm Comparison')\n",
    "ax = fig.add_subplot(111)\n",
    "plt.boxplot(results)\n",
    "ax.set_xticklabels(names)\n",
    "plt.show()\n",
    "\n",
    "# Make predictions on validation dataset\n",
    "print(\"\\n CART results on 30% test set \\n\")\n",
    "# Create Decision Tree classifer object\n",
    "cart = DecisionTreeClassifier()\n",
    "# Train Decision Tree Classifer\n",
    "cart.fit(X_train_set, Y_train_set)\n",
    "#saving the model using joblib \n",
    "filename = 'decision_finalized_DT_model.sav'\n",
    "joblib.dump(cart, filename)\n",
    "# load the model from disk\n",
    "loaded_model = joblib.load(filename)\n",
    "result = loaded_model.score(X_test, Y_test)\n",
    "print (result)\n",
    "#Predict the response for test dataset\n",
    "predictions_rfc = cart.predict(X_test)\n",
    "print(\"\\nCART accuracy test: \\n\")\n",
    "print(accuracy_score(Y_test, predictions_rfc))\n",
    "print(confusion_matrix(Y_test, predictions_rfc))\n",
    "print(classification_report(Y_test, predictions_rfc))\n",
    "matrix = plot_confusion_matrix(cart, X_test, Y_test, cmap=plt.cm.Blues)\n",
    "plt.show()\n",
    "warnings.filterwarnings(\"ignore\")\n",
    "\n",
    "# Make predictions on test dataset\n",
    "print(\"\\nCART results on final 30% validation \\n\")\n",
    "newcart = DecisionTreeClassifier()\n",
    "newcart.fit(X_train_set, Y_train_set)\n",
    "newpredictions_rfc = newcart.predict(X_validation)\n",
    "print(\"\\nCART accuracy validation: \\n\")\n",
    "print(accuracy_score(Y_validation, newpredictions_rfc))\n",
    "print(confusion_matrix(Y_validation, newpredictions_rfc))\n",
    "print(classification_report(Y_validation, newpredictions_rfc))\n",
    "df = dataset.reset_index(drop = False)\n",
    "matrix = plot_confusion_matrix(newcart, X_test, Y_test, cmap=plt.cm.Blues)\n",
    "plt.show()  \n",
    "warnings.filterwarnings(\"ignore\")\n",
    "\n",
    "\n",
    "# Testing For Logistic Regression\n",
    "print(\"-------------------------------------------------------\")\n",
    "\n",
    "# Make predictions on validation dataset\n",
    "print(\"\\n Logistic Regression results on 30% test set \\n\")\n",
    "# Create Logistic Regression classifer object\n",
    "logistic = LogisticRegression()\n",
    "# Train Logistic Regression Classifer\n",
    "logistic.fit(X_train_set, Y_train_set)\n",
    "#saving the model using joblib \n",
    "filename = 'logistic_finalized_DT_model.sav'\n",
    "joblib.dump(logistic, filename)\n",
    "# load the model from disk\n",
    "loaded_model = joblib.load(filename)\n",
    "result = loaded_model.score(X_test, Y_test)\n",
    "print (result)\n",
    "#Predict the response for test dataset\n",
    "predictions_rfc = logistic.predict(X_test)\n",
    "print(\"\\nLogistic Regression accuracy test: \\n\")\n",
    "print(accuracy_score(Y_test, predictions_rfc))\n",
    "print(confusion_matrix(Y_test, predictions_rfc))\n",
    "print(classification_report(Y_test, predictions_rfc, zero_division=0))\n",
    "matrix = plot_confusion_matrix(logistic, X_test, Y_test, cmap=plt.cm.Blues)\n",
    "plt.show()\n",
    "warnings.filterwarnings(\"ignore\")\n",
    "\n",
    "\n",
    "\n",
    "# Make predictions on test dataset\n",
    "print(\"\\nLogistic Regression results on final 30% validation \\n\")\n",
    "newlogistic = DecisionTreeClassifier()\n",
    "newlogistic.fit(X_train_set, Y_train_set)\n",
    "newpredictions_rfc = newlogistic.predict(X_validation)\n",
    "print(\"\\nLogistic Regression accuracy validation: \\n\")\n",
    "print(accuracy_score(Y_validation, newpredictions_rfc))\n",
    "print(confusion_matrix(Y_validation, newpredictions_rfc))\n",
    "print(classification_report(Y_validation, newpredictions_rfc))\n",
    "df = dataset.reset_index(drop = False)\n",
    "matrix = plot_confusion_matrix(newlogistic, X_test, Y_test, cmap=plt.cm.Blues)\n",
    "plt.show()\n",
    "warnings.filterwarnings(\"ignore\")\n",
    "\n",
    "\n",
    "# Testing For KNeighbors\n",
    "print(\"-------------------------------------------------------\")\n",
    "\n",
    "# Make predictions on validation dataset\n",
    "print(\"\\n KNeighbors results on 30% test set \\n\")\n",
    "# Create K Neighbors classifer object\n",
    "KNeighbors = KNeighborsClassifier()\n",
    "# Train KNeighbors Classifer\n",
    "KNeighbors.fit(X_train_set, Y_train_set)\n",
    "#saving the model using joblib \n",
    "filename = 'kneighbors_finalized_DT_model.sav'\n",
    "joblib.dump(KNeighbors, filename)\n",
    "# load the model from disk\n",
    "loaded_model = joblib.load(filename)\n",
    "result = loaded_model.score(X_test, Y_test)\n",
    "print (result)\n",
    "#Predict the response for test dataset\n",
    "predictions_rfc = KNeighbors.predict(X_test)\n",
    "print(\"\\nK Neighbors accuracy test: \\n\")\n",
    "print(accuracy_score(Y_test, predictions_rfc))\n",
    "print(confusion_matrix(Y_test, predictions_rfc))\n",
    "print(classification_report(Y_test, predictions_rfc, zero_division=0))\n",
    "matrix = plot_confusion_matrix(KNeighbors, X_test, Y_test, cmap=plt.cm.Blues)\n",
    "plt.show()\n",
    "warnings.filterwarnings(\"ignore\")\n",
    "\n",
    "\n",
    "# Make predictions on test dataset\n",
    "print(\"\\nK Neighbors results on final 30% validation \\n\")\n",
    "newKNeighbors = DecisionTreeClassifier()\n",
    "newKNeighbors.fit(X_train_set, Y_train_set)\n",
    "newpredictions_rfc = newKNeighbors.predict(X_validation)\n",
    "print(\"\\nK Neighbors accuracy validation: \\n\")\n",
    "print(accuracy_score(Y_validation, newpredictions_rfc))\n",
    "print(confusion_matrix(Y_validation, newpredictions_rfc))\n",
    "print(classification_report(Y_validation, newpredictions_rfc))\n",
    "df = dataset.reset_index(drop = False)\n",
    "matrix = plot_confusion_matrix(newKNeighbors, X_test, Y_test, cmap=plt.cm.Blues)\n",
    "plt.show()\n",
    "warnings.filterwarnings(\"ignore\")\n",
    "\n",
    "\n",
    "# Testing For Linear Discriminant Analysis\n",
    "print(\"-------------------------------------------------------\")\n",
    "\n",
    "# Make predictions on validation dataset\n",
    "print(\"\\n Linear Discriminant Analysis results on 30% test set \\n\")\n",
    "# Create Logistic Regression classifer object\n",
    "lda = LinearDiscriminantAnalysis()\n",
    "# Train Linear Discriminant Analysis Classifer\n",
    "lda.fit(X_train_set, Y_train_set)\n",
    "#saving the model using joblib \n",
    "filename = 'lda_finalized_DT_model.sav'\n",
    "joblib.dump(lda, filename)\n",
    "# load the model from disk\n",
    "loaded_model = joblib.load(filename)\n",
    "result = loaded_model.score(X_test, Y_test)\n",
    "print (result)\n",
    "#Predict the response for test dataset\n",
    "predictions_rfc = lda.predict(X_test)\n",
    "print(\"\\nLinear Discriminant Analysis accuracy test: \\n\")\n",
    "print(accuracy_score(Y_test, predictions_rfc))\n",
    "print(confusion_matrix(Y_test, predictions_rfc))\n",
    "print(classification_report(Y_test, predictions_rfc, zero_division=0))\n",
    "matrix = plot_confusion_matrix(lda, X_test, Y_test, cmap=plt.cm.Blues)\n",
    "plt.show()\n",
    "warnings.filterwarnings(\"ignore\")\n",
    "\n",
    "\n",
    "\n",
    "# Make predictions on test dataset\n",
    "print(\"\\nLinear Discriminant Analysis results on final 30% validation \\n\")\n",
    "newlda = DecisionTreeClassifier()\n",
    "newlda.fit(X_train_set, Y_train_set)\n",
    "newpredictions_rfc = newlda.predict(X_validation)\n",
    "print(\"\\nLinear Discriminant Analysis accuracy validation: \\n\")\n",
    "print(accuracy_score(Y_validation, newpredictions_rfc))\n",
    "print(confusion_matrix(Y_validation, newpredictions_rfc))\n",
    "print(classification_report(Y_validation, newpredictions_rfc))\n",
    "df = dataset.reset_index(drop = False)\n",
    "matrix = plot_confusion_matrix(newlda, X_test, Y_test, cmap=plt.cm.Blues)\n",
    "plt.show()\n",
    "warnings.filterwarnings(\"ignore\")\n",
    "\n"
   ]
  },
  {
   "cell_type": "code",
   "execution_count": null,
   "id": "e3a9faba",
   "metadata": {},
   "outputs": [],
   "source": []
  },
  {
   "cell_type": "code",
   "execution_count": null,
   "id": "4045fb7e",
   "metadata": {},
   "outputs": [],
   "source": []
  }
 ],
 "metadata": {
  "kernelspec": {
   "display_name": "Python 3 (ipykernel)",
   "language": "python",
   "name": "python3"
  },
  "language_info": {
   "codemirror_mode": {
    "name": "ipython",
    "version": 3
   },
   "file_extension": ".py",
   "mimetype": "text/x-python",
   "name": "python",
   "nbconvert_exporter": "python",
   "pygments_lexer": "ipython3",
   "version": "3.9.12"
  }
 },
 "nbformat": 4,
 "nbformat_minor": 5
}
